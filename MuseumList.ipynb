{
 "cells": [
  {
   "cell_type": "code",
   "execution_count": null,
   "id": "64c6c2aa-2976-4740-be2f-df25757275e6",
   "metadata": {},
   "outputs": [],
   "source": [
    "import pandas as pd"
   ]
  },
  {
   "cell_type": "code",
   "execution_count": null,
   "id": "15c16bbf-a7a4-438b-925c-c9acf5ff68f7",
   "metadata": {},
   "outputs": [],
   "source": [
    "!dir"
   ]
  },
  {
   "cell_type": "code",
   "execution_count": null,
   "id": "3a0ae46f-03db-46df-a44a-6b03d9088fe7",
   "metadata": {},
   "outputs": [],
   "source": [
    "file='MuseumsType.xlsx'"
   ]
  },
  {
   "cell_type": "code",
   "execution_count": null,
   "id": "c5031574-61ad-4b9d-80e5-de2cc0724ca9",
   "metadata": {},
   "outputs": [],
   "source": [
    "\n",
    "df = pd.read_excel(file, skiprows=6,header=1,nrows=13)\n",
    "\n",
    "\n"
   ]
  },
  {
   "cell_type": "code",
   "execution_count": null,
   "id": "e84e4d48-6a76-4518-8b2e-550986db4ae9",
   "metadata": {},
   "outputs": [],
   "source": [
    "df"
   ]
  },
  {
   "cell_type": "code",
   "execution_count": null,
   "id": "2cde147d-c096-4198-b137-46599567cde1",
   "metadata": {},
   "outputs": [],
   "source": [
    "df.columns.values[0] = \"year\"\n",
    "df.columns.values[1] = \"country\"\n",
    "df.columns.values[2] = \"initials\""
   ]
  },
  {
   "cell_type": "code",
   "execution_count": null,
   "id": "d4f67875-ecbd-4cce-ab3f-17a001d259b0",
   "metadata": {},
   "outputs": [],
   "source": [
    "df"
   ]
  },
  {
   "cell_type": "code",
   "execution_count": null,
   "id": "30231728-2abe-45d2-81ee-bcaaa903b008",
   "metadata": {},
   "outputs": [],
   "source": [
    "df1=df.drop(0).dropna(axis=1)"
   ]
  },
  {
   "cell_type": "code",
   "execution_count": null,
   "id": "2188c1bc-9b8d-4701-9d19-e3b51999ac0f",
   "metadata": {},
   "outputs": [],
   "source": [
    "df1=df1.drop(columns=['country','initials'])"
   ]
  },
  {
   "cell_type": "code",
   "execution_count": null,
   "id": "a18255af-9437-43c2-bedb-6eac3cd68fa0",
   "metadata": {},
   "outputs": [],
   "source": [
    "df1.corr()"
   ]
  },
  {
   "cell_type": "code",
   "execution_count": null,
   "id": "6dc9ed98-2853-4de5-9db4-48d0a004b412",
   "metadata": {},
   "outputs": [],
   "source": [
    "df1.set_index('year',inplace=True)"
   ]
  },
  {
   "cell_type": "code",
   "execution_count": null,
   "id": "1b3bfce1-0f3c-4e93-99ea-99902728073b",
   "metadata": {},
   "outputs": [],
   "source": [
    "df1['Art museums'].plot()"
   ]
  },
  {
   "cell_type": "code",
   "execution_count": null,
   "id": "05bdb05a-1983-43f4-89c0-b8d15c39cb05",
   "metadata": {},
   "outputs": [],
   "source": []
  }
 ],
 "metadata": {
  "kernelspec": {
   "display_name": "Python 3 (ipykernel)",
   "language": "python",
   "name": "python3"
  },
  "language_info": {
   "codemirror_mode": {
    "name": "ipython",
    "version": 3
   },
   "file_extension": ".py",
   "mimetype": "text/x-python",
   "name": "python",
   "nbconvert_exporter": "python",
   "pygments_lexer": "ipython3",
   "version": "3.11.5"
  }
 },
 "nbformat": 4,
 "nbformat_minor": 5
}
